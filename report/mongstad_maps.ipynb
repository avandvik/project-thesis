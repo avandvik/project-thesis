{
 "cells": [
  {
   "cell_type": "code",
   "execution_count": null,
   "metadata": {},
   "outputs": [],
   "source": [
    "import folium"
   ]
  },
  {
   "cell_type": "code",
   "execution_count": null,
   "metadata": {},
   "outputs": [],
   "source": [
    "inst_to_coord = {\n",
    "    0: [60.87, 4.71],\n",
    "    1: [60.64, 3.72],\n",
    "    2: [60.77, 3.50],\n",
    "    3: [60.88, 3.60],\n",
    "    4: [60.74, 3.61],\n",
    "    5: [60.95, 3.58],\n",
    "    6: [60.85, 3.62],\n",
    "    7: [60.89, 3.67],\n",
    "    8: [60.48, 2.82],\n",
    "    9: [60.48, 2.82],\n",
    "    10: [60.60, 2.77],\n",
    "    11: [60.70, 2.93],\n",
    "    12: [60.70, 2.93],\n",
    "    13: [60.38, 2.79],\n",
    "    14: [60.08, 2.63],\n",
    "    15: [61.07, 2.50],\n",
    "    16: [61.04, 2.34],\n",
    "    17: [61.04, 2.34],\n",
    "    18: [60.78, 2.89],\n",
    "    19: [60.85, 2.65],\n",
    "    20: [60.85, 2.65],\n",
    "    21: [61.25, 1.85],\n",
    "    22: [61.20, 1.82],\n",
    "    23: [61.29, 1.90],\n",
    "    24: [61.17, 2.18],\n",
    "    25: [61.20, 2.20],\n",
    "    26: [61.20, 2.27],\n",
    "    27: [60.90, 3.81]\n",
    "}\n",
    "\n",
    "# NOTE: Coordinates for 0 is somewhere in the water ;) #\n",
    "\n",
    "#1: TRO, 2: TRB 3: TRC 4: CPR 5: SEN 6: SDO 7: SEQ 8: OSE 9: OSB 10: OSC\n",
    "#11: OSO 12: SSC 13: OSS 14: DSD 15: KVB 16: VMO 17: WEØ 18: VFB 19: WEP 20: HUL\n",
    "#21 STA 22: STB 23: STC 24: GFA 25: GFB 26: GFC 27: SOD"
   ]
  },
  {
   "cell_type": "code",
   "execution_count": null,
   "metadata": {},
   "outputs": [],
   "source": [
    "def define_map():\n",
    "    middle = [60.793142, 3.601824]\n",
    "    m = folium.Map(location=middle,\n",
    "                   zoom_start=8,\n",
    "                   zoom_control=False)\n",
    "    folium.TileLayer('cartodbpositron').add_to(m)\n",
    "    return m\n",
    "        \n",
    "def add_markers(m, installations):\n",
    "    for installation in installations:\n",
    "        folium.CircleMarker(location=inst_to_coord[installation],\n",
    "                            radius=4,\n",
    "                            color='lightblue',\n",
    "                            fill_color='black',\n",
    "                            fill_opacity=1,\n",
    "                            fill=True).add_to(m)"
   ]
  },
  {
   "cell_type": "code",
   "execution_count": null,
   "metadata": {},
   "outputs": [],
   "source": [
    "m = define_map()\n",
    "\n",
    "mongstad_list = [i for i in range(0, 28)]\n",
    "cluster_list=[0,1,2,3,4,5,6,7,27]\n",
    "even_spread_list=[0,1,10,13,14,15,20,23,27]\n",
    "\n",
    "speed_opt_list=[0,2,6,12,17,23,26]\n",
    "\n",
    "order_selection_charter = [0, 4, 14, 15, 16, 20, 22, 26]\n",
    "order_selection_no_charter = [0, 4, 15, 16, 20, 22, 26]\n",
    "\n",
    "add_markers(m, order_selection_no_charter)\n",
    "\n",
    "m"
   ]
  },
  {
   "cell_type": "code",
   "execution_count": null,
   "metadata": {},
   "outputs": [],
   "source": [
    "file_name = 'Order_selection_no_charter'\n",
    "\n",
    "m.save(f'{file_name}.html')"
   ]
  }
 ],
 "metadata": {
  "kernelspec": {
   "display_name": "pyenv",
   "language": "python",
   "name": "pyenv"
  },
  "language_info": {
   "codemirror_mode": {
    "name": "ipython",
    "version": 3
   },
   "file_extension": ".py",
   "mimetype": "text/x-python",
   "name": "python",
   "nbconvert_exporter": "python",
   "pygments_lexer": "ipython3",
   "version": "3.8.5"
  }
 },
 "nbformat": 4,
 "nbformat_minor": 4
}
