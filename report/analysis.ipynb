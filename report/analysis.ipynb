{
 "cells": [
  {
   "cell_type": "markdown",
   "metadata": {},
   "source": [
    "# Analysis of Runtime and Solutions"
   ]
  },
  {
   "cell_type": "code",
   "execution_count": null,
   "metadata": {},
   "outputs": [],
   "source": [
    "import os\n",
    "import json\n",
    "import pathlib\n",
    "import numpy as np\n",
    "import pandas as pd\n",
    "import matplotlib.pyplot as plt\n",
    "from matplotlib.ticker import ScalarFormatter,AutoMinorLocator\n",
    "import matplotlib as mpl\n",
    "from pprint import pprint"
   ]
  },
  {
   "cell_type": "code",
   "execution_count": null,
   "metadata": {},
   "outputs": [],
   "source": [
    "color_wheel = ['#456990', '#EBA947', '#76E5C4', '#EF1A2C', '#fddbc7', '#f7f7f7', '#d1e5f0', '#92c5de', '#4393c3']"
   ]
  },
  {
   "cell_type": "code",
   "execution_count": null,
   "metadata": {},
   "outputs": [],
   "source": [
    "project_path = os.path.abspath(os.path.join(os.getcwd(), os.pardir))\n",
    "report_path = f'{project_path}/report/'\n",
    "machine = 'solstorm'  # solstorm or local\n",
    "dir_names = ['base_case', 'fleet_size', 'order_composition', 'selection_strategy', 'weather', 'no_speed_opt']\n",
    "\n",
    "dir_name_to_files = {}\n",
    "for dir_name in dir_names:\n",
    "    results_path = f'{project_path}/output/{machine}/{dir_name}/results'\n",
    "\n",
    "    files = [os.path.join(results_path, f) for f in os.listdir(results_path) \n",
    "             if os.path.isfile(os.path.join(results_path, f))]\n",
    "    \n",
    "    dir_name_to_files.update({dir_name: files})"
   ]
  },
  {
   "cell_type": "code",
   "execution_count": null,
   "metadata": {},
   "outputs": [],
   "source": [
    "def count_installations(results):\n",
    "    installations = set()\n",
    "    for order in results['instance_info']['order_composition']:\n",
    "        installations.add(results['instance_info']['order_composition'][order]['installation'])\n",
    "    return len(installations)\n",
    "\n",
    "def make_runtime_df(files, sortby):\n",
    "    columns = ['Instance name', 'Orders', 'Vessels', 'Installations',\n",
    "               'Weather', 'Selection', 'Optimality gap', 'Variables', 'Arcs', \n",
    "               'Preprocess runtime', 'Model runtime']\n",
    "    rows = []\n",
    "    for file in files:\n",
    "        file_name = os.path.basename(file).split('.')[0]\n",
    "        with open(file) as file:\n",
    "            results = json.load(file)\n",
    "        orders = len(results['order_fulfillment']['postponed_orders']) + len(results['order_fulfillment']['serviced_orders'])\n",
    "        installations = count_installations(results)\n",
    "        category = file_name.split('-')[1]\n",
    "        selection = 'Clustered' if category == 'CL' else 'Even' if category == 'ES' else 'Random'\n",
    "        row = [file_name,\n",
    "               orders,\n",
    "               results['instance_info']['fleet_size'],\n",
    "               installations,\n",
    "               results['instance_info']['weather_scenario']+1,\n",
    "               selection,\n",
    "               results['objective']['optimality_gap'],\n",
    "               results['variables']['number_of_variables'],\n",
    "               results['variables']['number_of_arcs'],\n",
    "               results['runtime']['preprocess_runtime'],\n",
    "               results['runtime']['model_runtime']]\n",
    "        rows.append(row)\n",
    "    runtime_df = pd.DataFrame(rows, columns=columns)\n",
    "    runtime_df = runtime_df.sort_values(sortby)\n",
    "    runtime_df.reset_index(drop=True, inplace=True)\n",
    "    return runtime_df\n",
    "\n",
    "# pd.set_option(\"display.max_rows\", None, \"display.max_columns\", None)\n",
    "\n",
    "bc_runtime_df = make_runtime_df(dir_name_to_files['base_case'], ['Orders'])\n",
    "fs_runtime_df = make_runtime_df(dir_name_to_files['fleet_size'], ['Vessels', 'Orders', 'Instance name'])\n",
    "fs_runtime_small_df = fs_runtime_df[fs_runtime_df['Orders'].isin([4, 6, 8])]\n",
    "fs_runtime_medium_df = fs_runtime_df[fs_runtime_df['Orders'].isin([10, 12, 14])]\n",
    "oc_runtime_df = make_runtime_df(dir_name_to_files['order_composition'], ['Orders','Instance name'])\n",
    "ss_runtime_df = make_runtime_df(dir_name_to_files['selection_strategy'], ['Orders','Instance name'])\n",
    "ws_runtime_df = make_runtime_df(dir_name_to_files['weather'], ['Weather', 'Orders','Instance name'])\n",
    "nso_runtime_df = make_runtime_df(dir_name_to_files['no_speed_opt'], ['Orders', 'Instance name'])\n",
    "\n",
    "nso_runtime_df"
   ]
  },
  {
   "cell_type": "code",
   "execution_count": null,
   "metadata": {},
   "outputs": [],
   "source": [
    "def mean(x):\n",
    "    return sum(x) / len(x)\n",
    "\n",
    "def aggregate_runtime_df(df, groupby):\n",
    "    agg_runtime_df = df.groupby(groupby).agg(gap=pd.NamedAgg(column='Optimality gap', \n",
    "                                                             aggfunc=mean),\n",
    "                                             variables=pd.NamedAgg(column='Variables',\n",
    "                                                                   aggfunc=mean),\n",
    "                                             arcs=pd.NamedAgg(column='Arcs',\n",
    "                                                              aggfunc=mean),\n",
    "                                             preprocess_runtime=pd.NamedAgg(column='Preprocess runtime', \n",
    "                                                                            aggfunc=mean),\n",
    "                                             model_runtime=pd.NamedAgg(column='Model runtime',\n",
    "                                                                       aggfunc=mean))\n",
    "    agg_runtime_df.variables = agg_runtime_df.variables.astype(int)\n",
    "    agg_runtime_df.arcs = agg_runtime_df.arcs.astype(int)\n",
    "    old_to_new_names = {'gap': 'Optimality gap', \n",
    "                        'variables': 'Variables',\n",
    "                        'arcs': 'Arcs',\n",
    "                        'preprocess_runtime': 'Preprocess runtime',\n",
    "                        'model_runtime': 'Model runtime'}\n",
    "    agg_runtime_df = agg_runtime_df.rename(columns=old_to_new_names)\n",
    "    return agg_runtime_df\n",
    "\n",
    "bc_agg_runtime_df = aggregate_runtime_df(bc_runtime_df, ['Orders'])\n",
    "fs_agg_runtime_small_df = aggregate_runtime_df(fs_runtime_small_df, ['Orders', 'Vessels'])\n",
    "fs_agg_runtime_medium_df = aggregate_runtime_df(fs_runtime_medium_df, ['Orders', 'Vessels'])\n",
    "ws2_agg_runtime_df = aggregate_runtime_df(ws_runtime_df.loc[ws_runtime_df['Weather'] == 2], ['Orders'])\n",
    "ws3_agg_runtime_df = aggregate_runtime_df(ws_runtime_df.loc[ws_runtime_df['Weather'] == 3], ['Orders'])\n",
    "sse_runtime_df = ss_runtime_df.loc[ss_runtime_df['Selection'] == 'Even']\n",
    "sse_runtime_df = sse_runtime_df.set_index('Orders')\n",
    "ssc_runtime_df = ss_runtime_df.loc[ss_runtime_df['Selection'] == 'Clustered']\n",
    "ssc_runtime_df = ssc_runtime_df.set_index('Orders')\n",
    "nso_agg_runtime_df = aggregate_runtime_df(nso_runtime_df, ['Orders'])\n",
    "\n",
    "nso_agg_runtime_df"
   ]
  },
  {
   "cell_type": "code",
   "execution_count": null,
   "metadata": {},
   "outputs": [],
   "source": [
    "def make_solutions_df(files, sortby):\n",
    "    columns = ['Instance name', 'Orders', 'Serviced', 'Postponed', \n",
    "               'Vessels', 'Fleet', 'Chartered', 'Weather', 'Selection',\n",
    "               'Fuel costs', 'Charter costs', 'Penalty costs', 'Objective bound']\n",
    "    rows = []\n",
    "    for file in files:\n",
    "        file_name = os.path.basename(file).split('.')[0]\n",
    "        with open(file) as file:\n",
    "            results = json.load(file)\n",
    "        orders = len(results['order_fulfillment']['postponed_orders']) + len(results['order_fulfillment']['serviced_orders'])\n",
    "        selection = 'Clustered' if file_name.split('-')[1] == 'CL' else 'Even' if file_name.split('-')[1] == 'ES' else 'Random'\n",
    "        row = [file_name,\n",
    "               orders,\n",
    "               len(results['order_fulfillment']['serviced_orders']),\n",
    "               len(results['order_fulfillment']['postponed_orders']),  \n",
    "               results['instance_info']['fleet_size'],\n",
    "               results['vessels']['fleet_vessels'], \n",
    "               results['vessels']['chartered_vessels'],\n",
    "               results['instance_info']['weather_scenario']+1,\n",
    "               selection,\n",
    "               results['objective']['fuel_costs'], \n",
    "               results['objective']['charter_costs'], \n",
    "               abs(results['objective']['penalty_costs']),\n",
    "               results['objective']['objective_bound']]\n",
    "        rows.append(row)\n",
    "    solutions_df = pd.DataFrame(rows, columns=columns)\n",
    "    solutions_df = solutions_df.sort_values(sortby)\n",
    "    solutions_df.reset_index(drop=True, inplace=True)\n",
    "    return solutions_df\n",
    "\n",
    "bc_solutions_df = make_solutions_df(dir_name_to_files['base_case'], ['Orders', 'Instance name'])\n",
    "fs_solutions_df = make_solutions_df(dir_name_to_files['fleet_size'], ['Orders', 'Vessels', 'Instance name'])\n",
    "fs_solutions_small_df = fs_solutions_df[fs_solutions_df['Orders'].isin([4, 6, 8])]\n",
    "fs_solutions_medium_df = fs_solutions_df[fs_solutions_df['Orders'].isin([10, 12, 14])]\n",
    "oc_solutions_df = make_solutions_df(dir_name_to_files['order_composition'], ['Orders', 'Instance name'])\n",
    "ss_solutions_df = make_solutions_df(dir_name_to_files['selection_strategy'], ['Orders', 'Instance name'])\n",
    "ws_solutions_df = make_solutions_df(dir_name_to_files['weather'], ['Orders', 'Instance name'])\n",
    "nso_solutions_df = make_solutions_df(dir_name_to_files['no_speed_opt'], ['Orders', 'Instance name'])\n",
    "\n",
    "nso_solutions_df"
   ]
  },
  {
   "cell_type": "code",
   "execution_count": null,
   "metadata": {},
   "outputs": [],
   "source": [
    "def mean(x):\n",
    "    return sum(x) / len(x)\n",
    "\n",
    "def aggregate_solutions_df(df, groupby):\n",
    "    agg_solutions_df = df.groupby(groupby).agg(serviced=pd.NamedAgg(column='Serviced',\n",
    "                                                                    aggfunc=mean),\n",
    "                                               postponed=pd.NamedAgg(column='Postponed',\n",
    "                                                                     aggfunc=mean),\n",
    "                                               fleet_vessels=pd.NamedAgg(column='Fleet',\n",
    "                                                                         aggfunc=mean),\n",
    "                                               charter_vessels=pd.NamedAgg(column='Chartered',\n",
    "                                                                           aggfunc=mean),\n",
    "                                               fuel_costs=pd.NamedAgg(column='Fuel costs',\n",
    "                                                                      aggfunc=mean),\n",
    "                                               charter_costs=pd.NamedAgg(column='Charter costs',\n",
    "                                                                         aggfunc=mean),\n",
    "                                               penalty_costs=pd.NamedAgg(column='Penalty costs',\n",
    "                                                                         aggfunc=mean),\n",
    "                                               objective_bound=pd.NamedAgg(column='Objective bound',\n",
    "                                                                           aggfunc=mean))\n",
    "    old_to_new_names = {'serviced': 'Serviced',\n",
    "                      'postponed': 'Postponed',\n",
    "                      'fleet_vessels': 'Fleet',\n",
    "                      'charter_vessels': 'Chartered',\n",
    "                      'fuel_costs': 'Fuel costs',\n",
    "                      'charter_costs': 'Charter costs',\n",
    "                      'penalty_costs': 'Penalty costs',\n",
    "                      'objective_bound': 'Objective bound'}\n",
    "    agg_solutions_df = agg_solutions_df.rename(columns=old_to_new_names)\n",
    "    return agg_solutions_df\n",
    "\n",
    "bc_agg_solutions_df = aggregate_solutions_df(bc_solutions_df, ['Orders'])\n",
    "fs_agg_solutions_small_df = aggregate_solutions_df(fs_solutions_small_df, ['Vessels'])\n",
    "fs_agg_solutions_medium_df = aggregate_solutions_df(fs_solutions_medium_df, ['Vessels'])\n",
    "ws_agg_solutions_df = aggregate_solutions_df(ws_solutions_df, ['Orders', 'Weather'])\n",
    "ss_agg_solutions_df = aggregate_solutions_df(ss_solutions_df, ['Orders', 'Selection'])\n",
    "nso_agg_solutions_df = aggregate_solutions_df(nso_solutions_df, ['Orders'])\n",
    "\n",
    "nso_agg_solutions_df"
   ]
  },
  {
   "cell_type": "code",
   "execution_count": null,
   "metadata": {},
   "outputs": [],
   "source": [
    "def plot_columns(df, columns, x_label, y_label, fig, ax, mode, \n",
    "                 super_color=None, os=None, ws=None, ss=None, ls=None, nso=None):    \n",
    "    linewidth = 1.8\n",
    "    alpha = 0.9\n",
    "    \n",
    "    X, Y, colors, labels = [], [], [], []\n",
    "    if mode == 'base_case':\n",
    "        for color_choice, column in enumerate(columns):\n",
    "            x, y = [], []\n",
    "            for i, value in enumerate(df[column]):\n",
    "                x.append(int(df[df == value].index[i]))\n",
    "                y.append(value)\n",
    "            X.append(x)\n",
    "            Y.append(y)\n",
    "            colors.append(color_choice if not super_color else super_color)\n",
    "            labels.append(column)\n",
    "    \n",
    "    elif mode == 'fleet_size':\n",
    "        for color_choice, column in enumerate(columns):\n",
    "            x, y = [], []\n",
    "            for i, value in enumerate(df[columns[0]]):\n",
    "                x.append(int(df[df == value].index[i]))\n",
    "                y.append(value)\n",
    "            X.append(x)\n",
    "            Y.append(y)\n",
    "            colors.append(color_choice if not super_color else super_color)\n",
    "            runtime = columns[0].split(' ')[1].capitalize()\n",
    "            labels.append(f'{os} orders')\n",
    "                \n",
    "    elif mode == 'order_composition':\n",
    "        for color_choice, column in enumerate(columns):\n",
    "            x, y = [], []\n",
    "            for i, value in enumerate(df[column]):\n",
    "                x.append(df.loc[i, 'Installations'])\n",
    "                y.append(value)\n",
    "            X.append(x)\n",
    "            Y.append(y)\n",
    "            colors.append(color_choice)\n",
    "            labels.append(column)\n",
    "    \n",
    "    elif mode == 'weather':\n",
    "        for color_choice, column in enumerate(columns):\n",
    "            x, y = [], []\n",
    "            for i, value in enumerate(df[column]):\n",
    "                x.append(int(df[df == value].index[i]))\n",
    "                y.append(value)\n",
    "            X.append(x)\n",
    "            Y.append(y)\n",
    "            colors.append(color_choice if not super_color else super_color)\n",
    "            labels.append(f'Weather scenario {ws}')\n",
    "    \n",
    "    elif mode == 'selection_strategy':\n",
    "        for color_choice, column in enumerate(columns):\n",
    "            x, y = [], []\n",
    "            for i, value in enumerate(df[column]):\n",
    "                x.append(int(df[df == value].index[i]))\n",
    "                y.append(value)\n",
    "            X.append(x)\n",
    "            Y.append(y)\n",
    "            colors.append(color_choice if not super_color else super_color)\n",
    "            labels.append(f'Selection strategy {ss}')\n",
    "    \n",
    "    elif mode == 'no_speed_opt':\n",
    "        for color_choice, column in enumerate(columns):\n",
    "            x, y = [], []\n",
    "            for i, value in enumerate(df[column]):\n",
    "                x.append(int(df[df == value].index[i]))\n",
    "                y.append(value)\n",
    "            X.append(x)\n",
    "            Y.append(y)\n",
    "            colors.append(color_choice if not super_color else super_color)\n",
    "            labels.append(nso)\n",
    "    \n",
    "    for x, y, c, label in zip(X, Y, colors, labels):\n",
    "        ax.plot(x,\n",
    "                y,\n",
    "                color=color_wheel[c],\n",
    "                linestyle='-' if not ls else ls,\n",
    "                lw=linewidth if not ls else linewidth * 0.8,\n",
    "                label=label,\n",
    "                alpha=alpha)\n",
    "    return fig, ax\n",
    "\n",
    "def plot_sub_dfs(df, columns, x_label, y_label, fig, ax, mode):\n",
    "    orders, vessels = set(), set()\n",
    "    for o, v in list(df.index):\n",
    "        orders.add(o)\n",
    "        vessels.add(v)\n",
    "        \n",
    "    for order in orders:\n",
    "        if order in [4, 10]:\n",
    "            color = 0\n",
    "        elif order in [6, 12]:\n",
    "            color = 2\n",
    "        elif order in [8, 14]:\n",
    "            color = 1\n",
    "        sub_df = df.loc[order]\n",
    "        plot_columns(sub_df, columns, x_label, y_label, fig, ax, os=order, mode=mode, super_color=color)\n",
    "    \n",
    "    if min(vessels) != 1:\n",
    "        ax.plot(list(vessels), \n",
    "                [3600 for _ in range(len(list(vessels)))],\n",
    "                color=color_wheel[3],\n",
    "                linestyle='dashed',\n",
    "                lw=1.3,\n",
    "                label='Max runtime',\n",
    "                alpha=1)\n",
    "    \n",
    "        ax.set_xlabel(x_label)\n",
    "        ax.set_ylabel(y_label)\n",
    "        ax.yaxis.set_major_formatter(ScalarFormatter())\n",
    "        ax.yaxis.major.formatter._useMathText = True\n",
    "        ax.yaxis.set_minor_locator(AutoMinorLocator(5))\n",
    "        ax.xaxis.set_minor_locator(AutoMinorLocator(5))\n",
    "        ax.locator_params(integer=True)\n",
    "        ax.legend(frameon=False, bbox_to_anchor=(0.015, 0.96), loc='upper left', ncol=1, handlelength=4)\n",
    "        # plt.savefig('Fleet_size_runtime_1.jpg', dpi=400)\n",
    "    else:    \n",
    "        ax.set_xlabel(x_label)\n",
    "        ax.set_ylabel(y_label)\n",
    "        ax.yaxis.set_major_formatter(ScalarFormatter())\n",
    "        ax.yaxis.major.formatter._useMathText = True\n",
    "        ax.yaxis.set_minor_locator(AutoMinorLocator(5))\n",
    "        ax.xaxis.set_minor_locator(AutoMinorLocator(5))\n",
    "        ax.locator_params(integer=True)\n",
    "        ax.legend(frameon=False, loc='best', ncol=1, handlelength=4)\n",
    "        # plt.savefig('Fleet_size_runtime_2.jpg', dpi=400)\n",
    "    return fig, ax\n",
    "    \n",
    "def plot_bc_runtime():\n",
    "    plt.close('all')\n",
    "    plt.style.use(os.path.join(report_path, 'PaperDoubleFig.mplstyle'))\n",
    "    fig, ax = plt.subplots()\n",
    "    columns = ['Preprocess runtime', 'Model runtime']\n",
    "    x_label = 'Orders (#)'\n",
    "    y_label = 'Runtime (s)'\n",
    "    fig, ax = plot_columns(bc_agg_runtime_df, columns, x_label, y_label, fig, ax, mode='base_case')\n",
    "    ax.plot([i for i in range(4, 17, 2)], \n",
    "            [3600 for _ in range(4, 17, 2)],\n",
    "            color=color_wheel[3],\n",
    "            linestyle='dashed',\n",
    "            lw=1.3,\n",
    "            label='Max runtime',\n",
    "            alpha=1)\n",
    "    ax.set_xlabel(x_label)\n",
    "    ax.set_ylabel(y_label)\n",
    "    ax.yaxis.set_major_formatter(ScalarFormatter())\n",
    "    ax.yaxis.major.formatter._useMathText = True\n",
    "    ax.yaxis.set_minor_locator(AutoMinorLocator(5))\n",
    "    ax.xaxis.set_minor_locator(AutoMinorLocator(5))\n",
    "    ax.locator_params(integer=True)\n",
    "    ax.legend(frameon=False, loc='best', ncol=1, handlelength=4)\n",
    "    # plt.savefig('Base_case_runtime.jpg', dpi=400)\n",
    "    plt.show()\n",
    "\n",
    "def plot_fs_runtime(df):\n",
    "    plt.close('all')\n",
    "    plt.style.use(os.path.join(report_path, 'PaperDoubleFig.mplstyle'))\n",
    "    fig, ax = plt.subplots()\n",
    "    columns = ['Model runtime']\n",
    "    x_label = 'Vessels (#)'\n",
    "    y_label = 'Runtime (s)'\n",
    "    # fig, ax = plot_columns(fs_ag_runtime_selected_df, columns, x_label, y_label, fig, ax, mode='fleet_size')\n",
    "    fig, ax = plot_sub_dfs(df, columns, x_label, y_label, fig, ax, mode='fleet_size')\n",
    "    ax.set_xlabel(x_label)\n",
    "    ax.set_ylabel(y_label)\n",
    "    ax.yaxis.set_major_formatter(ScalarFormatter())\n",
    "    ax.yaxis.major.formatter._useMathText = True\n",
    "    ax.yaxis.set_minor_locator(AutoMinorLocator(5))\n",
    "    ax.xaxis.set_minor_locator(AutoMinorLocator(5))\n",
    "    ax.locator_params(integer=True)\n",
    "    plt.show()\n",
    "    \n",
    "def plot_oc_runtime():\n",
    "    plt.close('all')\n",
    "    plt.style.use(os.path.join(report_path, 'PaperDoubleFig.mplstyle'))\n",
    "    fig, ax = plt.subplots()\n",
    "    columns = ['Model runtime']\n",
    "    x_label = 'Installations (#)'\n",
    "    y_label = 'Runtime (s)'\n",
    "    fig, ax = plot_columns(oc_runtime_df, columns, x_label, y_label, fig, ax, mode='order_composition')\n",
    "    ax.set_xlabel(x_label)\n",
    "    ax.set_ylabel(y_label)\n",
    "    ax.yaxis.set_major_formatter(ScalarFormatter())\n",
    "    ax.yaxis.major.formatter._useMathText = True\n",
    "    ax.yaxis.set_minor_locator(AutoMinorLocator(5))\n",
    "    ax.xaxis.set_minor_locator(AutoMinorLocator(5))\n",
    "    ax.locator_params(integer=True)\n",
    "    # plt.savefig('Order_composition.jpg', dpi=400)\n",
    "    plt.show()\n",
    "    \n",
    "def plot_ws_runtime():\n",
    "    plt.close('all')\n",
    "    plt.style.use(os.path.join(report_path, 'PaperDoubleFig.mplstyle'))\n",
    "    fig, ax = plt.subplots()\n",
    "    columns = ['Model runtime']\n",
    "    x_label = 'Orders (#)'\n",
    "    y_label = 'Runtime (s)'\n",
    "    fig, ax = plot_columns(bc_agg_runtime_df, columns, x_label, y_label, fig, ax, \n",
    "                           mode='weather', super_color=0, ws='None')\n",
    "    fig, ax = plot_columns(ws2_agg_runtime_df, columns, x_label, y_label, fig, ax, \n",
    "                           mode='weather', super_color=1, ws='Low', ls='dashdot')\n",
    "    fig, ax = plot_columns(ws3_agg_runtime_df, columns, x_label, y_label, fig, ax, \n",
    "                           mode='weather', super_color=2, ws='High')\n",
    "    ax.plot([i for i in range(4, 27, 2)], \n",
    "            [3600 for _ in range(4, 27, 2)],\n",
    "            color=color_wheel[3],\n",
    "            linestyle='dashed',\n",
    "            lw=1.3,\n",
    "            label='Max runtime',\n",
    "            alpha=1)\n",
    "    ax.set_xlabel(x_label)\n",
    "    ax.set_ylabel(y_label)\n",
    "    ax.yaxis.set_major_formatter(ScalarFormatter())\n",
    "    ax.yaxis.major.formatter._useMathText = True\n",
    "    ax.yaxis.set_minor_locator(AutoMinorLocator(5))\n",
    "    ax.xaxis.set_minor_locator(AutoMinorLocator(5))\n",
    "    ax.locator_params(integer=True)\n",
    "    ax.legend(frameon=False, loc='best', ncol=1, handlelength=4)\n",
    "    # plt.savefig('Weather_scenarios_runtime.jpg', dpi=400)\n",
    "    plt.show()\n",
    "    \n",
    "def plot_ss_runtime():\n",
    "    plt.close('all')\n",
    "    plt.style.use(os.path.join(report_path, 'PaperDoubleFig.mplstyle'))\n",
    "    fig, ax = plt.subplots()\n",
    "    columns = ['Model runtime']\n",
    "    x_label = 'Orders (#)'\n",
    "    y_label = 'Runtime (s)'\n",
    "    fig, ax = plot_columns(bc_agg_runtime_df, columns, x_label, y_label, fig, ax, \n",
    "                           mode='selection_strategy', super_color=0, ss='Random')\n",
    "    fig, ax = plot_columns(ssc_runtime_df, columns, x_label, y_label, fig, ax, \n",
    "                           mode='selection_strategy', super_color=1, ss='Clustering')\n",
    "    fig, ax = plot_columns(sse_runtime_df, columns, x_label, y_label, fig, ax, \n",
    "                           mode='selection_strategy', super_color=2, ss='Even spreading')\n",
    "    ax.plot([i for i in range(4, 19, 2)], \n",
    "            [3600 for _ in range(4, 19, 2)],\n",
    "            color=color_wheel[3],\n",
    "            linestyle='dashed',\n",
    "            lw=1.3,\n",
    "            label='Max runtime',\n",
    "            alpha=1)\n",
    "    ax.set_xlabel(x_label)\n",
    "    ax.set_ylabel(y_label)\n",
    "    ax.yaxis.set_major_formatter(ScalarFormatter())\n",
    "    ax.yaxis.major.formatter._useMathText = True\n",
    "    ax.yaxis.set_minor_locator(AutoMinorLocator(5))\n",
    "    ax.xaxis.set_minor_locator(AutoMinorLocator(5))\n",
    "    ax.locator_params(integer=True)\n",
    "    ax.legend(frameon=False, loc='best', ncol=1, handlelength=4)\n",
    "    # plt.savefig('Selection_strategy_runtime.jpg', dpi=400)\n",
    "    plt.show()\n",
    "    \n",
    "def plot_nso_runtime():\n",
    "    plt.close('all')\n",
    "    plt.style.use(os.path.join(report_path, 'PaperDoubleFig.mplstyle'))\n",
    "    fig, ax = plt.subplots()\n",
    "    columns = ['Model runtime']\n",
    "    x_label = 'Orders (#)'\n",
    "    y_label = 'Runtime (s)'\n",
    "    fig, ax = plot_columns(bc_agg_runtime_df, columns, x_label, y_label, fig, ax, \n",
    "                           mode='no_speed_opt', super_color=1, nso='Speed optimization')\n",
    "    fig, ax = plot_columns(nso_agg_runtime_df, columns, x_label, y_label, fig, ax,\n",
    "                           mode='no_speed_opt', super_color=0, nso='No speed optimization')\n",
    "    ax.plot([i for i in range(4, 21, 2)], \n",
    "            [3600 for _ in range(4, 21, 2)],\n",
    "            color=color_wheel[3],\n",
    "            linestyle='dashed',\n",
    "            lw=1.3,\n",
    "            label='Max runtime',\n",
    "            alpha=1)\n",
    "    ax.set_xlabel(x_label)\n",
    "    ax.set_ylabel(y_label)\n",
    "    ax.yaxis.set_major_formatter(ScalarFormatter())\n",
    "    ax.yaxis.major.formatter._useMathText = True\n",
    "    ax.yaxis.set_minor_locator(AutoMinorLocator(5))\n",
    "    ax.xaxis.set_minor_locator(AutoMinorLocator(5))\n",
    "    ax.locator_params(integer=True)\n",
    "    ax.legend(frameon=False, loc='best', ncol=1, handlelength=4)\n",
    "    # plt.savefig('No_speed_opt_runtime.jpg', dpi=400)\n",
    "    plt.show()"
   ]
  },
  {
   "cell_type": "markdown",
   "metadata": {},
   "source": [
    "## Base case"
   ]
  },
  {
   "cell_type": "markdown",
   "metadata": {},
   "source": [
    "### Base case runtime"
   ]
  },
  {
   "cell_type": "code",
   "execution_count": null,
   "metadata": {},
   "outputs": [],
   "source": [
    "bc_runtime_df"
   ]
  },
  {
   "cell_type": "markdown",
   "metadata": {},
   "source": [
    "#### Base case runtime aggregated"
   ]
  },
  {
   "cell_type": "code",
   "execution_count": null,
   "metadata": {},
   "outputs": [],
   "source": [
    "bc_agg_runtime_df"
   ]
  },
  {
   "cell_type": "code",
   "execution_count": null,
   "metadata": {},
   "outputs": [],
   "source": [
    "plot_bc_runtime()"
   ]
  },
  {
   "cell_type": "markdown",
   "metadata": {},
   "source": [
    "### Base case solutions"
   ]
  },
  {
   "cell_type": "code",
   "execution_count": null,
   "metadata": {},
   "outputs": [],
   "source": [
    "bc_solutions_df"
   ]
  },
  {
   "cell_type": "markdown",
   "metadata": {},
   "source": [
    "#### Base case solutions aggregated"
   ]
  },
  {
   "cell_type": "code",
   "execution_count": null,
   "metadata": {},
   "outputs": [],
   "source": [
    "bc_agg_solutions_df"
   ]
  },
  {
   "cell_type": "markdown",
   "metadata": {},
   "source": [
    "## Fleet size"
   ]
  },
  {
   "cell_type": "markdown",
   "metadata": {},
   "source": [
    "### Fleet size runtime"
   ]
  },
  {
   "cell_type": "code",
   "execution_count": null,
   "metadata": {},
   "outputs": [],
   "source": [
    "fs_runtime_df"
   ]
  },
  {
   "cell_type": "markdown",
   "metadata": {},
   "source": [
    "#### Fleet size runtime aggregated"
   ]
  },
  {
   "cell_type": "code",
   "execution_count": null,
   "metadata": {},
   "outputs": [],
   "source": [
    "fs_agg_runtime_small_df"
   ]
  },
  {
   "cell_type": "code",
   "execution_count": null,
   "metadata": {},
   "outputs": [],
   "source": [
    "plot_fs_runtime(fs_agg_runtime_small_df)"
   ]
  },
  {
   "cell_type": "code",
   "execution_count": null,
   "metadata": {},
   "outputs": [],
   "source": [
    "fs_agg_runtime_medium_df"
   ]
  },
  {
   "cell_type": "code",
   "execution_count": null,
   "metadata": {},
   "outputs": [],
   "source": [
    "plot_fs_runtime(fs_agg_runtime_medium_df)"
   ]
  },
  {
   "cell_type": "markdown",
   "metadata": {},
   "source": [
    "### Fleet size solutions"
   ]
  },
  {
   "cell_type": "code",
   "execution_count": null,
   "metadata": {},
   "outputs": [],
   "source": [
    "fs_solutions_df"
   ]
  },
  {
   "cell_type": "markdown",
   "metadata": {},
   "source": [
    "#### Fleet size solutions aggregated"
   ]
  },
  {
   "cell_type": "code",
   "execution_count": null,
   "metadata": {},
   "outputs": [],
   "source": [
    "fs_agg_solutions_small_df"
   ]
  },
  {
   "cell_type": "code",
   "execution_count": null,
   "metadata": {},
   "outputs": [],
   "source": [
    "fs_agg_solutions_medium_df"
   ]
  },
  {
   "cell_type": "markdown",
   "metadata": {},
   "source": [
    "## Order composition"
   ]
  },
  {
   "cell_type": "markdown",
   "metadata": {},
   "source": [
    "### Order composition runtime"
   ]
  },
  {
   "cell_type": "code",
   "execution_count": null,
   "metadata": {},
   "outputs": [],
   "source": [
    "oc_runtime_df"
   ]
  },
  {
   "cell_type": "code",
   "execution_count": null,
   "metadata": {},
   "outputs": [],
   "source": [
    "plot_oc_runtime()"
   ]
  },
  {
   "cell_type": "markdown",
   "metadata": {},
   "source": [
    "### Order composition solutions"
   ]
  },
  {
   "cell_type": "code",
   "execution_count": null,
   "metadata": {},
   "outputs": [],
   "source": [
    "oc_solutions_df"
   ]
  },
  {
   "cell_type": "markdown",
   "metadata": {},
   "source": [
    "## Selection strategy"
   ]
  },
  {
   "cell_type": "markdown",
   "metadata": {},
   "source": [
    "### Selection strategy runtime"
   ]
  },
  {
   "cell_type": "code",
   "execution_count": null,
   "metadata": {},
   "outputs": [],
   "source": [
    "ss_runtime_df"
   ]
  },
  {
   "cell_type": "markdown",
   "metadata": {},
   "source": [
    "#### Selection strategy Even Spreading"
   ]
  },
  {
   "cell_type": "code",
   "execution_count": null,
   "metadata": {},
   "outputs": [],
   "source": [
    "sse_runtime_df"
   ]
  },
  {
   "cell_type": "markdown",
   "metadata": {},
   "source": [
    "#### Selection strategy Clustering"
   ]
  },
  {
   "cell_type": "code",
   "execution_count": null,
   "metadata": {},
   "outputs": [],
   "source": [
    "ssc_runtime_df"
   ]
  },
  {
   "cell_type": "markdown",
   "metadata": {},
   "source": [
    "### Selection strategy solutions"
   ]
  },
  {
   "cell_type": "code",
   "execution_count": null,
   "metadata": {},
   "outputs": [],
   "source": [
    "ss_solutions_df"
   ]
  },
  {
   "cell_type": "markdown",
   "metadata": {},
   "source": [
    "#### Selection strategy solutions aggregated"
   ]
  },
  {
   "cell_type": "code",
   "execution_count": null,
   "metadata": {},
   "outputs": [],
   "source": [
    "ss_agg_solutions_df"
   ]
  },
  {
   "cell_type": "code",
   "execution_count": null,
   "metadata": {},
   "outputs": [],
   "source": [
    "plot_ss_runtime()"
   ]
  },
  {
   "cell_type": "markdown",
   "metadata": {},
   "source": [
    "## Weather scenario"
   ]
  },
  {
   "cell_type": "markdown",
   "metadata": {},
   "source": [
    "### Weather scenario runtime"
   ]
  },
  {
   "cell_type": "code",
   "execution_count": null,
   "metadata": {},
   "outputs": [],
   "source": [
    "ws_runtime_df"
   ]
  },
  {
   "cell_type": "markdown",
   "metadata": {},
   "source": [
    "#### Weather scenario Low aggregated runtime"
   ]
  },
  {
   "cell_type": "code",
   "execution_count": null,
   "metadata": {},
   "outputs": [],
   "source": [
    "ws2_agg_runtime_df"
   ]
  },
  {
   "cell_type": "markdown",
   "metadata": {},
   "source": [
    "#### Weather scenario High aggregated runtime"
   ]
  },
  {
   "cell_type": "code",
   "execution_count": null,
   "metadata": {},
   "outputs": [],
   "source": [
    "ws3_agg_runtime_df"
   ]
  },
  {
   "cell_type": "code",
   "execution_count": null,
   "metadata": {},
   "outputs": [],
   "source": [
    "plot_ws_runtime()"
   ]
  },
  {
   "cell_type": "markdown",
   "metadata": {},
   "source": [
    "### Weather scenario solutions"
   ]
  },
  {
   "cell_type": "code",
   "execution_count": null,
   "metadata": {},
   "outputs": [],
   "source": [
    "ws_solutions_df"
   ]
  },
  {
   "cell_type": "markdown",
   "metadata": {},
   "source": [
    "#### Weather scenario aggregated solutions"
   ]
  },
  {
   "cell_type": "code",
   "execution_count": null,
   "metadata": {},
   "outputs": [],
   "source": [
    "ws_agg_solutions_df"
   ]
  },
  {
   "cell_type": "markdown",
   "metadata": {},
   "source": [
    "## Speed optimization"
   ]
  },
  {
   "cell_type": "markdown",
   "metadata": {},
   "source": [
    "### Speed optimization runtime"
   ]
  },
  {
   "cell_type": "code",
   "execution_count": null,
   "metadata": {},
   "outputs": [],
   "source": [
    "nso_runtime_df"
   ]
  },
  {
   "cell_type": "code",
   "execution_count": null,
   "metadata": {},
   "outputs": [],
   "source": [
    "nso_agg_runtime_df"
   ]
  },
  {
   "cell_type": "code",
   "execution_count": null,
   "metadata": {},
   "outputs": [],
   "source": [
    "plot_nso_runtime()"
   ]
  }
 ],
 "metadata": {
  "kernelspec": {
   "display_name": "pyenv",
   "language": "python",
   "name": "pyenv"
  },
  "language_info": {
   "codemirror_mode": {
    "name": "ipython",
    "version": 3
   },
   "file_extension": ".py",
   "mimetype": "text/x-python",
   "name": "python",
   "nbconvert_exporter": "python",
   "pygments_lexer": "ipython3",
   "version": "3.8.5"
  }
 },
 "nbformat": 4,
 "nbformat_minor": 4
}
