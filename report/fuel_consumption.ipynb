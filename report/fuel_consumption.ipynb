{
 "cells": [
  {
   "cell_type": "code",
   "execution_count": null,
   "metadata": {},
   "outputs": [],
   "source": [
    "import os\n",
    "import math\n",
    "import matplotlib.pyplot as plt\n",
    "%matplotlib inline"
   ]
  },
  {
   "cell_type": "code",
   "execution_count": null,
   "metadata": {},
   "outputs": [],
   "source": [
    "def get_weather_impact(weather):\n",
    "    if weather in [0, 1]:\n",
    "        return 0\n",
    "    elif weather == 2:\n",
    "        return 2\n",
    "    elif weather == 3:\n",
    "        return 3\n",
    "    else:\n",
    "        return None\n",
    "    \n",
    "def fuel_consumption_kg(distance, speed, weather):\n",
    "    fc_dspeed = 600\n",
    "    dspeed = 12\n",
    "    weather_impact = get_weather_impact(weather)\n",
    "    return (distance / (speed - weather_impact)) * fc_dspeed * math.pow((speed / dspeed), 3)\n",
    "\n",
    "def fuel_consumption_kg_hour(distance, speed, weather):\n",
    "    fc_kg = fuel_consumption_kg(distance, speed, weather)\n",
    "    duration = distance / speed\n",
    "    return fc_kg / duration\n",
    "\n",
    "def fuel_consumption_kg_nm(distance, speed, weather):\n",
    "    fc_kg = fuel_consumption_kg(distance, speed, weather)\n",
    "    return fc_kg / distance"
   ]
  },
  {
   "cell_type": "code",
   "execution_count": null,
   "metadata": {},
   "outputs": [],
   "source": [
    "distance = 50\n",
    "min_speed, max_speed = 10, 14\n",
    "\n",
    "speed_to_fc = {weather: {speed: fuel_consumption_kg_nm(distance, speed, weather) \n",
    "                         for speed in range(min_speed, max_speed + 1)} \n",
    "               for weather in range(1, 4)}\n",
    "speed_to_fc"
   ]
  },
  {
   "cell_type": "code",
   "execution_count": null,
   "metadata": {},
   "outputs": [],
   "source": [
    "path = os.getcwd()\n",
    "\n",
    "speeds_ws01 = list(speed_to_fc[1].keys())\n",
    "fcs_ws01 = list(speed_to_fc[1].values())\n",
    "speeds_ws2 = list(speed_to_fc[2].keys())[:-2]\n",
    "fcs_ws2 = list(speed_to_fc[2].values())[:-2]\n",
    "speeds_ws3 = list(speed_to_fc[3].keys())[:-3]\n",
    "fcs_ws3 = list(speed_to_fc[3].values())[:-3]\n",
    "\n",
    "plt.plot(speeds_ws01, fcs_ws01, color='#456990', label='Weather states 0 and 1')\n",
    "plt.plot(speeds_ws2, fcs_ws2, color='#EBA947', label='Weather state 2')\n",
    "plt.plot(speeds_ws3, fcs_ws3, color='#76E5C4', label='Weather state 3')\n",
    "plt.xlabel('Sailing speed (kts)')\n",
    "plt.ylabel('Fuel consumption (kg/nmi)')\n",
    "plt.style.use(os.path.join(path, 'PaperDoubleFig.mplstyle'))\n",
    "plt.legend(frameon=False, loc='best', ncol=1, handlelength=4)\n",
    "plt.savefig('fc.jpg', dpi=400)\n",
    "plt.show()"
   ]
  },
  {
   "cell_type": "code",
   "execution_count": null,
   "metadata": {},
   "outputs": [],
   "source": []
  },
  {
   "cell_type": "code",
   "execution_count": null,
   "metadata": {},
   "outputs": [],
   "source": []
  }
 ],
 "metadata": {
  "kernelspec": {
   "display_name": "pyenv",
   "language": "python",
   "name": "pyenv"
  },
  "language_info": {
   "codemirror_mode": {
    "name": "ipython",
    "version": 3
   },
   "file_extension": ".py",
   "mimetype": "text/x-python",
   "name": "python",
   "nbconvert_exporter": "python",
   "pygments_lexer": "ipython3",
   "version": "3.8.5"
  }
 },
 "nbformat": 4,
 "nbformat_minor": 4
}
