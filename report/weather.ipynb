{
 "cells": [
  {
   "cell_type": "code",
   "execution_count": null,
   "metadata": {},
   "outputs": [],
   "source": [
    "hours_3 = 72\n",
    "hours_4 = 96\n",
    "\n",
    "none = [0 for _ in range(hours_4)]\n",
    "\n",
    "low = [0 for _ in range(int(hours_4 / 6))]\n",
    "low.extend([1 for _ in range(int(hours_4 / 6))])\n",
    "low.extend([2 for _ in range(int(hours_4 / 3))])\n",
    "low.extend([1 for _ in range(int(hours_4 / 6))])\n",
    "low.extend([0 for _ in range(int(hours_4 / 6))])\n",
    "\n",
    "high = [1 for _ in range(int(hours_4 / 5))]\n",
    "high.extend([2 for _ in range(int(hours_4 / 5))])\n",
    "high.extend([3 for _ in range(int(3* hours_4 / 5))])"
   ]
  },
  {
   "cell_type": "code",
   "execution_count": null,
   "metadata": {},
   "outputs": [],
   "source": [
    "print(none)\n",
    "print(low)\n",
    "high.append(3)\n",
    "print(high)\n",
    "print(len(none), len(low), len(high))"
   ]
  },
  {
   "cell_type": "code",
   "execution_count": null,
   "metadata": {},
   "outputs": [],
   "source": [
    "t = 0\n",
    "while high[t] !=3:\n",
    "    t+=1\n",
    "print(t)"
   ]
  },
  {
   "cell_type": "code",
   "execution_count": null,
   "metadata": {},
   "outputs": [],
   "source": [
    "high[38] = 3\n",
    "high[39] = 3\n",
    "high[40] = 3\n",
    "high[40] = 3"
   ]
  }
 ],
 "metadata": {
  "kernelspec": {
   "display_name": "pyenv",
   "language": "python",
   "name": "pyenv"
  },
  "language_info": {
   "codemirror_mode": {
    "name": "ipython",
    "version": 3
   },
   "file_extension": ".py",
   "mimetype": "text/x-python",
   "name": "python",
   "nbconvert_exporter": "python",
   "pygments_lexer": "ipython3",
   "version": "3.8.5"
  }
 },
 "nbformat": 4,
 "nbformat_minor": 4
}
